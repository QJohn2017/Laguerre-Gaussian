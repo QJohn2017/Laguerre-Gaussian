{
 "cells": [
  {
   "cell_type": "code",
   "execution_count": null,
   "metadata": {},
   "outputs": [],
   "source": [
    "%matplotlib notebook\n",
    "import pathlib\n",
    "from copy import copy\n",
    "from openpmd_viewer import addons\n",
    "from matplotlib import pyplot as plt, colors, cm, rcParams\n",
    "from mpl_toolkits.axes_grid1.inset_locator import inset_axes\n",
    "import unyt as u\n",
    "from prepic import lwfa\n",
    "import numpy as np\n",
    "from scipy.signal import hilbert\n",
    "import custom_colormap as cc\n",
    "import figformat\n",
    "import plasma_constants as pc"
   ]
  },
  {
   "cell_type": "code",
   "execution_count": null,
   "metadata": {},
   "outputs": [],
   "source": [
    "fig_width, fig_height, params = figformat.figure_format(fig_width=3.4,fig_height=3.4)\n",
    "rcParams.update(params)"
   ]
  },
  {
   "cell_type": "code",
   "execution_count": null,
   "metadata": {},
   "outputs": [],
   "source": [
    "cc.colormap_alpha('Reds')"
   ]
  },
  {
   "cell_type": "code",
   "execution_count": null,
   "metadata": {
    "lines_to_next_cell": 1
   },
   "outputs": [],
   "source": [
    "a0 = 2.4   # Laser amplitude\n",
    "tau = 25.0e-15 / 2.354820045 # Laser duration\n",
    "w0 = 22.0e-6 / 1.17741 # Laser waist\n",
    "lambda0 = 0.8e-6 # Laser wavelength"
   ]
  },
  {
   "cell_type": "code",
   "execution_count": null,
   "metadata": {},
   "outputs": [],
   "source": [
    "def Laguerre_mode(n,X):\n",
    "    if n==0:\n",
    "        return 1\n",
    "    elif n==1:\n",
    "        return 1 - X\n",
    "    elif n==2:\n",
    "        return 0.5 * (X**2- 4*X +2)\n",
    "    elif n==3:\n",
    "        return (1/6) * (-X**3 + 9*X**2 - 18*X + 6)   \n",
    "\n",
    "LAGUERREMODES = np.array([-1.0,0.31,-0.2])\n",
    "\n",
    "def LaguerreBeam(m,x,z,y_focused,xinit):\n",
    "    k = 2.0 * pc.pi /lambda0\n",
    "    # Gaussian Beam stuff\n",
    "    zinit = xinit \n",
    "    radius = np.sqrt((x-xinit)**2 + (z-zinit)**2)            # radius of laser spot\n",
    "    radius2 = radius**2\n",
    "    posY = y_focused\n",
    "    rayleigh_range = pc.pi * w0**2 / lambda0\n",
    "    wz = w0 * np.sqrt(1+(posY/rayleigh_range)**2)\n",
    "    wz2 = wz**2\n",
    "    radius_of_curvature = posY * (1.0+(rayleigh_range/posY)**2)\n",
    "    PsiG = np.arctan(posY/rayleigh_range)\n",
    "    phase = (k * radius2/(2.0 * radius_of_curvature)) - (2*0 + 1)*PsiG\n",
    "    if m==0:\n",
    "        Etrans = LAGUERREMODES[0]*Laguerre_mode(0,2*radius2/(wz2))*(w0/wz)*np.exp(-radius2/wz2)\n",
    "    elif m==1:\n",
    "        Etrans = (LAGUERREMODES[0]*Laguerre_mode(0,2*radius2/(wz2)) + \n",
    "                  LAGUERREMODES[1]*Laguerre_mode(1,2*radius2/(wz2)) )*(w0/wz)*np.exp(-radius2/wz2)\n",
    "    elif m==2:\n",
    "        Etrans = (LAGUERREMODES[0]*Laguerre_mode(0,2*radius2/(wz2)) + \n",
    "                  LAGUERREMODES[1]*Laguerre_mode(1,2*radius2/(wz2)) +\n",
    "                  LAGUERREMODES[2]*Laguerre_mode(2,2*radius2/(wz2)) )*(w0/wz)*np.exp(-radius2/wz2)\n",
    "    return Etrans\n",
    "\n",
    "x = np.linspace(0,50e-6,256)\n",
    "z = np.linspace(0,50e-6,256)\n",
    "X, Z = np.meshgrid(x,z)\n",
    "extent = np.min(X*1e6), np.max(X*1e6), np.min(Z*1e6), np.max(Z*1e6)\n",
    "Intensity = a0*LaguerreBeam(2,X,Z,y_focused=150e-6,xinit=25e-6)**2\n",
    "\n",
    "fig, ax = plt.subplots()\n",
    "\n",
    "im_envelope = ax.imshow(\n",
    "    Intensity,\n",
    "    extent=extent,\n",
    "    origin=\"lower\",\n",
    "    cmap='Reds')\n",
    "\n",
    "cbaxes_env = inset_axes(\n",
    "    ax,\n",
    "    width=\"3%\",  # width = 5% of parent_bbox width\n",
    "    height=\"100%\",  # height : 50%\n",
    "    loc=3,\n",
    "    bbox_to_anchor=(1.01, 0.0, 1, 1),\n",
    "    bbox_transform=ax.transAxes,\n",
    "    borderpad=0,\n",
    ")\n",
    "cbar_env = fig.colorbar(\n",
    "    mappable=im_envelope, orientation=\"vertical\", ticklocation=\"right\", cax=cbaxes_env\n",
    ")\n",
    "cbar_env.set_label(\"$a_0$\")\n",
    "cbar_env.ax.minorticks_on()\n",
    "\n",
    "ax.plot(x*1e6, Intensity[128,:]/a0*25,color=\"b\")\n",
    "ax.axhline(25, color=\"b\", ls=\"-.\")\n",
    "ax.axvline(14, color=\"g\", ls=\"-.\")\n",
    "ax.axvline(36, color=\"g\", ls=\"-.\")\n",
    "img2 = ax.contour(\n",
    "    x * 1e6,\n",
    "    z * 1e6,\n",
    "    Intensity,\n",
    "    levels=[0.135*np.max(Intensity),0.5*np.max(Intensity)],\n",
    "    colors=\"black\",\n",
    ")\n",
    "ax.clabel(img2, inline=1)\n",
    "# add watermark\n",
    "ax.text(0.5, 0.5, 'LGED preliminary', transform=ax.transAxes,\n",
    "    fontsize=20, color='0.75', alpha=0.5,\n",
    "    ha='center', va='center', rotation='30')\n",
    "\n",
    "# Add the name of the axes\n",
    "ax.set_ylabel(\"$z \\;(\\mu \\mathrm{m} )$\")\n",
    "ax.set_xlabel(\"$x \\;(\\mu \\mathrm{m} )$\")\n",
    "ax.minorticks_on()\n",
    "#plt.show()"
   ]
  },
  {
   "cell_type": "code",
   "execution_count": null,
   "metadata": {},
   "outputs": [],
   "source": [
    "fig.savefig(\n",
    "    rf\"Laguerre_Gaissian_mode{LAGUERREMODES.shape[0]-1}.png\",\n",
    "    dpi=600,\n",
    "    transparent=False,\n",
    "    bbox_inches=\"tight\",\n",
    ")\n",
    "plt.close()"
   ]
  },
  {
   "cell_type": "code",
   "execution_count": null,
   "metadata": {},
   "outputs": [],
   "source": []
  }
 ],
 "metadata": {
  "jupytext": {
   "cell_metadata_filter": "-all",
   "encoding": "# coding: utf-8",
   "executable": "/usr/bin/env python",
   "main_language": "python",
   "notebook_metadata_filter": "-all"
  }
 },
 "nbformat": 4,
 "nbformat_minor": 2
}
